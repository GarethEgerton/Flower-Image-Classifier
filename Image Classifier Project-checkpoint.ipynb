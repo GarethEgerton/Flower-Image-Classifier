{
 "cells": [
  {
   "cell_type": "markdown",
   "metadata": {},
   "source": [
    "# Developing an AI application\n",
    "\n",
    "Going forward, AI algorithms will be incorporated into more and more everyday applications. For example, you might want to include an image classifier in a smart phone app. To do this, you'd use a deep learning model trained on hundreds of thousands of images as part of the overall application architecture. A large part of software development in the future will be using these types of models as common parts of applications. \n",
    "\n",
    "In this project, you'll train an image classifier to recognize different species of flowers. You can imagine using something like this in a phone app that tells you the name of the flower your camera is looking at. In practice you'd train this classifier, then export it for use in your application. We'll be using [this dataset](http://www.robots.ox.ac.uk/~vgg/data/flowers/102/index.html) of 102 flower categories, you can see a few examples below. \n",
    "\n",
    "<img src='assets/Flowers.png' width=500px>\n",
    "\n",
    "The project is broken down into multiple steps:\n",
    "\n",
    "* Load and preprocess the image dataset\n",
    "* Train the image classifier on your dataset\n",
    "* Use the trained classifier to predict image content\n",
    "\n",
    "We'll lead you through each part which you'll implement in Python.\n",
    "\n",
    "When you've completed this project, you'll have an application that can be trained on any set of labeled images. Here your network will be learning about flowers and end up as a command line application. But, what you do with your new skills depends on your imagination and effort in building a dataset. For example, imagine an app where you take a picture of a car, it tells you what the make and model is, then looks up information about it. Go build your own dataset and make something new.\n",
    "\n",
    "First up is importing the packages you'll need. It's good practice to keep all the imports at the beginning of your code. As you work through this notebook and find you need to import a package, make sure to add the import up here."
   ]
  },
  {
   "cell_type": "code",
   "execution_count": 1,
   "metadata": {},
   "outputs": [],
   "source": [
    "# Imports here\n",
    "\n",
    "import numpy as np\n",
    "import torch\n",
    "from torch import nn\n",
    "from torch import optim \n",
    "import torch.nn.functional as F\n",
    "from torchvision import datasets, transforms, models\n",
    "import json\n"
   ]
  },
  {
   "cell_type": "markdown",
   "metadata": {},
   "source": [
    "## Load the data\n",
    "\n",
    "Here you'll use `torchvision` to load the data ([documentation](http://pytorch.org/docs/0.3.0/torchvision/index.html)). The data should be included alongside this notebook, otherwise you can [download it here](https://s3.amazonaws.com/content.udacity-data.com/nd089/flower_data.tar.gz). The dataset is split into three parts, training, validation, and testing. For the training, you'll want to apply transformations such as random scaling, cropping, and flipping. This will help the network generalize leading to better performance. You'll also need to make sure the input data is resized to 224x224 pixels as required by the pre-trained networks.\n",
    "\n",
    "The validation and testing sets are used to measure the model's performance on data it hasn't seen yet. For this you don't want any scaling or rotation transformations, but you'll need to resize then crop the images to the appropriate size.\n",
    "\n",
    "The pre-trained networks you'll use were trained on the ImageNet dataset where each color channel was normalized separately. For all three sets you'll need to normalize the means and standard deviations of the images to what the network expects. For the means, it's `[0.485, 0.456, 0.406]` and for the standard deviations `[0.229, 0.224, 0.225]`, calculated from the ImageNet images.  These values will shift each color channel to be centered at 0 and range from -1 to 1.\n",
    " "
   ]
  },
  {
   "cell_type": "code",
   "execution_count": 2,
   "metadata": {},
   "outputs": [],
   "source": [
    "data_dir = 'flowers'\n",
    "train_dir = data_dir + '/train'\n",
    "valid_dir = data_dir + '/valid'\n",
    "test_dir = data_dir + '/test'"
   ]
  },
  {
   "cell_type": "code",
   "execution_count": 3,
   "metadata": {},
   "outputs": [
    {
     "name": "stdout",
     "output_type": "stream",
     "text": [
      "12\n"
     ]
    }
   ],
   "source": [
    "# TODO: Define your transforms for the training, validation, and testing sets\n",
    "train_transforms = transforms.Compose([transforms.Resize(256),\n",
    "                                       #transforms.RandomRotation(45),\n",
    "                                       transforms.CenterCrop(224),\n",
    "                                    transforms.RandomResizedCrop(224),\n",
    "                                    transforms.RandomHorizontalFlip(),\n",
    "                                    transforms.ToTensor(),\n",
    "                                    transforms.Normalize([0.485, 0.456, 0.406],\n",
    "                                                       [0.229, 0.224, 0.225])])\n",
    "\n",
    "test_transforms = transforms.Compose([transforms.Resize(256),\n",
    "                                        transforms.CenterCrop(224),\n",
    "                                        transforms.ToTensor(),\n",
    "                                        transforms.Normalize([0.485, 0.456, 0.406],\n",
    "                                                           [0.229, 0.224, 0.225])])\n",
    "\n",
    "# TODO: Load the datasets with ImageFolder\n",
    "train_dataset = datasets.ImageFolder(data_dir + '/train', transform=train_transforms)\n",
    "test_dataset = datasets.ImageFolder(data_dir + '/test', transform=test_transforms)\n",
    "\n",
    "# TODO: Using the image datasets and the trainforms, define the dataloaders\n",
    "train_loader = torch.utils.data.DataLoader(train_dataset, batch_size=64, shuffle=True, drop_last=True)\n",
    "test_loader = torch.utils.data.DataLoader(test_dataset, batch_size=64, drop_last=True, shuffle=True)\n",
    "print(len(test_loader))"
   ]
  },
  {
   "cell_type": "code",
   "execution_count": 4,
   "metadata": {},
   "outputs": [
    {
     "data": {
      "text/plain": [
       "torch.utils.data.dataloader.DataLoader"
      ]
     },
     "execution_count": 4,
     "metadata": {},
     "output_type": "execute_result"
    }
   ],
   "source": [
    "type(train_loader)"
   ]
  },
  {
   "cell_type": "code",
   "execution_count": 5,
   "metadata": {},
   "outputs": [
    {
     "data": {
      "text/plain": [
       "<torch.utils.data.dataloader.DataLoader at 0x7f172c9b7588>"
      ]
     },
     "execution_count": 5,
     "metadata": {},
     "output_type": "execute_result"
    }
   ],
   "source": [
    "train_loader "
   ]
  },
  {
   "cell_type": "code",
   "execution_count": 6,
   "metadata": {},
   "outputs": [
    {
     "data": {
      "text/plain": [
       "6552"
      ]
     },
     "execution_count": 6,
     "metadata": {},
     "output_type": "execute_result"
    }
   ],
   "source": [
    "len(train_dataset)"
   ]
  },
  {
   "cell_type": "code",
   "execution_count": 7,
   "metadata": {},
   "outputs": [],
   "source": [
    "sample = next(iter(train_dataset))"
   ]
  },
  {
   "cell_type": "code",
   "execution_count": 8,
   "metadata": {},
   "outputs": [],
   "source": [
    "s = iter(train_dataset)"
   ]
  },
  {
   "cell_type": "code",
   "execution_count": 9,
   "metadata": {},
   "outputs": [
    {
     "data": {
      "text/plain": [
       "(tensor([[[ 0.4166,  0.4166,  0.4166,  ..., -1.1932, -1.2103, -1.2617],\n",
       "          [ 0.3823,  0.3823,  0.3823,  ..., -1.4329, -1.4158, -1.3987],\n",
       "          [ 0.3823,  0.3481,  0.3309,  ..., -1.6898, -1.6042, -1.5357],\n",
       "          ...,\n",
       "          [-0.9705, -0.9877, -1.0048,  ..., -2.1008, -2.1179, -2.1179],\n",
       "          [-0.8849, -0.9020, -0.9192,  ..., -2.1008, -2.1008, -2.1008],\n",
       "          [-0.8164, -0.8335, -0.8678,  ..., -2.1008, -2.1008, -2.0837]],\n",
       " \n",
       "         [[ 0.2227,  0.2227,  0.2227,  ..., -1.1253, -1.1253, -1.1779],\n",
       "          [ 0.1877,  0.1877,  0.1877,  ..., -1.2829, -1.2479, -1.2479],\n",
       "          [ 0.1877,  0.1527,  0.1352,  ..., -1.4230, -1.3529, -1.2829],\n",
       "          ...,\n",
       "          [-0.5826, -0.6001, -0.6176,  ..., -1.7381, -1.7731, -1.7906],\n",
       "          [-0.5301, -0.5476, -0.5826,  ..., -1.7906, -1.8081, -1.8256],\n",
       "          [-0.4776, -0.5126, -0.5476,  ..., -1.8256, -1.8431, -1.8606]],\n",
       " \n",
       "         [[ 0.3393,  0.3393,  0.3393,  ..., -1.2816, -1.3513, -1.4559],\n",
       "          [ 0.3045,  0.3045,  0.3045,  ..., -1.4210, -1.4559, -1.4907],\n",
       "          [ 0.3045,  0.2696,  0.2522,  ..., -1.5604, -1.5430, -1.5256],\n",
       "          ...,\n",
       "          [-0.7064, -0.7064, -0.7064,  ..., -1.6999, -1.7347, -1.7522],\n",
       "          [-0.6715, -0.6715, -0.6715,  ..., -1.7173, -1.7173, -1.7347],\n",
       "          [-0.6367, -0.6541, -0.6541,  ..., -1.7522, -1.7522, -1.7347]]]), 0)"
      ]
     },
     "execution_count": 9,
     "metadata": {},
     "output_type": "execute_result"
    }
   ],
   "source": [
    "sample"
   ]
  },
  {
   "cell_type": "code",
   "execution_count": 10,
   "metadata": {},
   "outputs": [
    {
     "data": {
      "text/plain": [
       "(tensor([[[ 0.0056,  0.0056, -0.0458,  ...,  0.3309,  0.3309,  0.3309],\n",
       "          [ 0.0056,  0.0056, -0.0458,  ...,  0.3309,  0.3309,  0.3309],\n",
       "          [ 0.0227,  0.0227, -0.0287,  ...,  0.3309,  0.3309,  0.3309],\n",
       "          ...,\n",
       "          [ 1.5639,  1.5639,  1.5639,  ..., -2.0665, -2.0665, -2.0665],\n",
       "          [ 1.5639,  1.5639,  1.5468,  ..., -2.1008, -2.1008, -2.1008],\n",
       "          [ 1.5639,  1.5639,  1.5468,  ..., -2.1008, -2.1008, -2.1008]],\n",
       " \n",
       "         [[ 0.1877,  0.1877,  0.1527,  ...,  0.2227,  0.2227,  0.2227],\n",
       "          [ 0.1877,  0.1877,  0.1527,  ...,  0.2227,  0.2227,  0.2227],\n",
       "          [ 0.2052,  0.2052,  0.1527,  ...,  0.2227,  0.2227,  0.2227],\n",
       "          ...,\n",
       "          [ 1.2031,  1.2031,  1.2031,  ..., -1.9482, -1.9482, -1.9482],\n",
       "          [ 1.2381,  1.2381,  1.2206,  ..., -1.9307, -1.9307, -1.9307],\n",
       "          [ 1.2381,  1.2381,  1.2206,  ..., -1.9307, -1.9307, -1.9307]],\n",
       " \n",
       "         [[ 0.0779,  0.0779,  0.0256,  ...,  0.2522,  0.2522,  0.2522],\n",
       "          [ 0.0779,  0.0779,  0.0256,  ...,  0.2522,  0.2522,  0.2522],\n",
       "          [ 0.0953,  0.0953,  0.0256,  ...,  0.2522,  0.2522,  0.2522],\n",
       "          ...,\n",
       "          [ 2.1346,  2.1346,  2.1346,  ..., -1.7522, -1.7522, -1.7522],\n",
       "          [ 2.1520,  2.1520,  2.1520,  ..., -1.7696, -1.7696, -1.7696],\n",
       "          [ 2.1520,  2.1520,  2.1520,  ..., -1.7696, -1.7696, -1.7696]]]), 0)"
      ]
     },
     "execution_count": 10,
     "metadata": {},
     "output_type": "execute_result"
    }
   ],
   "source": [
    "next(s)"
   ]
  },
  {
   "cell_type": "code",
   "execution_count": 11,
   "metadata": {},
   "outputs": [],
   "source": [
    "image, label = sample"
   ]
  },
  {
   "cell_type": "code",
   "execution_count": 12,
   "metadata": {},
   "outputs": [
    {
     "data": {
      "text/plain": [
       "torch.Size([3, 224, 224])"
      ]
     },
     "execution_count": 12,
     "metadata": {},
     "output_type": "execute_result"
    }
   ],
   "source": [
    "image.shape"
   ]
  },
  {
   "cell_type": "code",
   "execution_count": 13,
   "metadata": {
    "scrolled": true
   },
   "outputs": [
    {
     "data": {
      "text/plain": [
       "(tensor([[[ 0.4166,  0.4166,  0.4166,  ..., -1.1932, -1.2103, -1.2617],\n",
       "          [ 0.3823,  0.3823,  0.3823,  ..., -1.4329, -1.4158, -1.3987],\n",
       "          [ 0.3823,  0.3481,  0.3309,  ..., -1.6898, -1.6042, -1.5357],\n",
       "          ...,\n",
       "          [-0.9705, -0.9877, -1.0048,  ..., -2.1008, -2.1179, -2.1179],\n",
       "          [-0.8849, -0.9020, -0.9192,  ..., -2.1008, -2.1008, -2.1008],\n",
       "          [-0.8164, -0.8335, -0.8678,  ..., -2.1008, -2.1008, -2.0837]],\n",
       " \n",
       "         [[ 0.2227,  0.2227,  0.2227,  ..., -1.1253, -1.1253, -1.1779],\n",
       "          [ 0.1877,  0.1877,  0.1877,  ..., -1.2829, -1.2479, -1.2479],\n",
       "          [ 0.1877,  0.1527,  0.1352,  ..., -1.4230, -1.3529, -1.2829],\n",
       "          ...,\n",
       "          [-0.5826, -0.6001, -0.6176,  ..., -1.7381, -1.7731, -1.7906],\n",
       "          [-0.5301, -0.5476, -0.5826,  ..., -1.7906, -1.8081, -1.8256],\n",
       "          [-0.4776, -0.5126, -0.5476,  ..., -1.8256, -1.8431, -1.8606]],\n",
       " \n",
       "         [[ 0.3393,  0.3393,  0.3393,  ..., -1.2816, -1.3513, -1.4559],\n",
       "          [ 0.3045,  0.3045,  0.3045,  ..., -1.4210, -1.4559, -1.4907],\n",
       "          [ 0.3045,  0.2696,  0.2522,  ..., -1.5604, -1.5430, -1.5256],\n",
       "          ...,\n",
       "          [-0.7064, -0.7064, -0.7064,  ..., -1.6999, -1.7347, -1.7522],\n",
       "          [-0.6715, -0.6715, -0.6715,  ..., -1.7173, -1.7173, -1.7347],\n",
       "          [-0.6367, -0.6541, -0.6541,  ..., -1.7522, -1.7522, -1.7347]]]), 0)"
      ]
     },
     "execution_count": 13,
     "metadata": {},
     "output_type": "execute_result"
    }
   ],
   "source": [
    "sample"
   ]
  },
  {
   "cell_type": "code",
   "execution_count": 14,
   "metadata": {},
   "outputs": [
    {
     "data": {
      "text/plain": [
       "0"
      ]
     },
     "execution_count": 14,
     "metadata": {},
     "output_type": "execute_result"
    }
   ],
   "source": [
    "label"
   ]
  },
  {
   "cell_type": "code",
   "execution_count": null,
   "metadata": {},
   "outputs": [],
   "source": []
  },
  {
   "cell_type": "code",
   "execution_count": null,
   "metadata": {},
   "outputs": [],
   "source": []
  },
  {
   "cell_type": "code",
   "execution_count": 15,
   "metadata": {},
   "outputs": [],
   "source": [
    "import numpy as np\n",
    "import matplotlib.pyplot as plt\n",
    "\n",
    "torch.set_printoptions(linewidth=120)"
   ]
  },
  {
   "cell_type": "code",
   "execution_count": 16,
   "metadata": {
    "scrolled": false
   },
   "outputs": [
    {
     "data": {
      "text/plain": [
       "<matplotlib.image.AxesImage at 0x7f17294b37f0>"
      ]
     },
     "execution_count": 16,
     "metadata": {},
     "output_type": "execute_result"
    },
    {
     "data": {
      "image/png": "[encoded data removed]",
      "text/plain": [
       "<matplotlib.figure.Figure at 0x7f17294d9278>"
      ]
     },
     "metadata": {
      "needs_background": "light"
     },
     "output_type": "display_data"
    }
   ],
   "source": [
    "plt.imshow(image[0], cmap='gray')"
   ]
  },
  {
   "cell_type": "code",
   "execution_count": 17,
   "metadata": {},
   "outputs": [
    {
     "data": {
      "text/plain": [
       "<matplotlib.image.AxesImage at 0x7f17283cf390>"
      ]
     },
     "execution_count": 17,
     "metadata": {},
     "output_type": "execute_result"
    },
    {
     "data": {
      "image/png": "[encoded data removed]",
      "text/plain": [
       "<matplotlib.figure.Figure at 0x7f172948be80>"
      ]
     },
     "metadata": {
      "needs_background": "light"
     },
     "output_type": "display_data"
    }
   ],
   "source": [
    "plt.imshow(image[1])"
   ]
  },
  {
   "cell_type": "code",
   "execution_count": 18,
   "metadata": {},
   "outputs": [
    {
     "data": {
      "text/plain": [
       "torch.Size([224, 224])"
      ]
     },
     "execution_count": 18,
     "metadata": {},
     "output_type": "execute_result"
    }
   ],
   "source": [
    "image[0].shape"
   ]
  },
  {
   "cell_type": "code",
   "execution_count": 19,
   "metadata": {},
   "outputs": [
    {
     "data": {
      "text/plain": [
       "819"
      ]
     },
     "execution_count": 19,
     "metadata": {},
     "output_type": "execute_result"
    }
   ],
   "source": [
    "len(test_dataset)"
   ]
  },
  {
   "cell_type": "code",
   "execution_count": 20,
   "metadata": {},
   "outputs": [],
   "source": [
    "batch = next(iter(train_loader))"
   ]
  },
  {
   "cell_type": "code",
   "execution_count": 21,
   "metadata": {},
   "outputs": [
    {
     "data": {
      "text/plain": [
       "[tensor([[[[-1.9809, -1.9980, -2.0323,  ..., -1.7583, -1.8439, -1.9467],\n",
       "           [-1.9638, -1.9809, -2.0152,  ..., -1.7754, -1.8610, -1.9467],\n",
       "           [-1.9638, -1.9809, -2.0152,  ..., -1.7925, -1.8610, -1.9467],\n",
       "           ...,\n",
       "           [-2.0494, -2.0665, -2.0837,  ..., -2.0323, -2.0152, -2.0494],\n",
       "           [-2.0494, -2.0665, -2.0665,  ..., -2.0323, -2.0152, -2.0494],\n",
       "           [-2.0494, -2.0494, -2.0494,  ..., -2.0323, -2.0152, -2.0323]],\n",
       " \n",
       "          [[-1.5805, -1.5805, -1.5980,  ..., -1.2129, -1.3179, -1.4055],\n",
       "           [-1.5630, -1.5630, -1.5805,  ..., -1.2304, -1.3179, -1.4230],\n",
       "           [-1.5630, -1.5630, -1.5630,  ..., -1.2479, -1.3354, -1.4405],\n",
       "           ...,\n",
       "           [-1.6856, -1.6856, -1.6856,  ..., -1.5455, -1.5280, -1.5105],\n",
       "           [-1.6856, -1.6856, -1.6856,  ..., -1.5455, -1.5280, -1.5105],\n",
       "           [-1.6856, -1.6681, -1.6681,  ..., -1.5455, -1.5280, -1.5105]],\n",
       " \n",
       "          [[-1.6650, -1.6824, -1.6999,  ..., -1.6476, -1.6824, -1.6824],\n",
       "           [-1.6476, -1.6650, -1.6824,  ..., -1.6650, -1.6824, -1.6824],\n",
       "           [-1.6476, -1.6650, -1.6650,  ..., -1.6824, -1.6999, -1.6999],\n",
       "           ...,\n",
       "           [-1.7870, -1.7870, -1.7870,  ..., -1.7696, -1.7522, -1.7696],\n",
       "           [-1.7870, -1.7870, -1.7870,  ..., -1.7696, -1.7522, -1.7696],\n",
       "           [-1.7870, -1.7696, -1.7696,  ..., -1.7696, -1.7522, -1.7696]]],\n",
       " \n",
       " \n",
       "         [[[ 0.7762,  0.7933,  0.8618,  ...,  0.9132,  0.9132,  0.9132],\n",
       "           [ 0.7762,  0.7933,  0.8618,  ...,  0.9132,  0.9132,  0.9132],\n",
       "           [ 0.8447,  0.8618,  0.8961,  ...,  0.9303,  0.9132,  0.9132],\n",
       "           ...,\n",
       "           [ 0.5364,  0.5364,  0.5707,  ..., -1.6042, -1.5699, -1.5699],\n",
       "           [ 0.5364,  0.5364,  0.5536,  ..., -1.5870, -1.5528, -1.5528],\n",
       "           [ 0.5364,  0.5364,  0.5536,  ..., -1.5870, -1.5528, -1.5528]],\n",
       " \n",
       "          [[ 0.3627,  0.3803,  0.4503,  ..., -0.9503, -0.9503, -0.9503],\n",
       "           [ 0.3627,  0.3803,  0.4503,  ..., -0.9503, -0.9503, -0.9503],\n",
       "           [ 0.4153,  0.4328,  0.4678,  ..., -0.9503, -0.9503, -0.9503],\n",
       "           ...,\n",
       "           [-0.6001, -0.6001, -0.6176,  ..., -1.1429, -1.1429, -1.1429],\n",
       "           [-0.6176, -0.6176, -0.6352,  ..., -1.1429, -1.1604, -1.1604],\n",
       "           [-0.6176, -0.6176, -0.6352,  ..., -1.1429, -1.1604, -1.1604]],\n",
       " \n",
       "          [[ 1.8905,  1.9080,  1.9603,  ...,  1.9951,  1.9951,  1.9951],\n",
       "           [ 1.8905,  1.9080,  1.9603,  ...,  1.9951,  1.9951,  1.9951],\n",
       "           [ 1.9603,  1.9603,  1.9951,  ...,  1.9951,  1.9951,  1.9951],\n",
       "           ...,\n",
       "           [ 1.6465,  1.6465,  1.6814,  ..., -1.3861, -1.4036, -1.4036],\n",
       "           [ 1.6465,  1.6465,  1.6814,  ..., -1.4036, -1.4036, -1.4036],\n",
       "           [ 1.6465,  1.6465,  1.6814,  ..., -1.4036, -1.4036, -1.4036]]],\n",
       " \n",
       " \n",
       "         [[[ 1.2557,  1.2557,  1.2385,  ...,  1.4612,  1.4783,  1.4783],\n",
       "           [ 1.2728,  1.2728,  1.2557,  ...,  1.4612,  1.4783,  1.4783],\n",
       "           [ 1.3413,  1.3413,  1.3242,  ...,  1.4954,  1.5125,  1.5125],\n",
       "           ...,\n",
       "           [ 0.9132,  0.9132,  0.9303,  ...,  1.6667,  1.6838,  1.6838],\n",
       "           [ 0.9132,  0.9132,  0.9303,  ...,  1.8550,  1.8722,  1.8722],\n",
       "           [ 0.9132,  0.9132,  0.9303,  ...,  1.8893,  1.9064,  1.9064]],\n",
       " \n",
       "          [[-0.7577, -0.7577, -0.8102,  ..., -0.0574, -0.0399, -0.0399],\n",
       "           [-0.7402, -0.7402, -0.7927,  ..., -0.0574, -0.0399, -0.0399],\n",
       "           [-0.6352, -0.6352, -0.6877,  ..., -0.0399, -0.0399, -0.0399],\n",
       "           ...,\n",
       "           [-1.3179, -1.3179, -1.3354,  ...,  1.5882,  1.6057,  1.6057],\n",
       "           [-1.2829, -1.2829, -1.3004,  ...,  1.7983,  1.8158,  1.8158],\n",
       "           [-1.2829, -1.2829, -1.3004,  ...,  1.8333,  1.8508,  1.8508]],\n",
       " \n",
       "          [[ 1.5420,  1.5420,  1.5245,  ...,  1.4374,  1.4722,  1.4722],\n",
       "           [ 1.5594,  1.5594,  1.5420,  ...,  1.4374,  1.4722,  1.4722],\n",
       "           [ 1.5942,  1.5942,  1.5768,  ...,  1.4548,  1.4897,  1.4897],\n",
       "           ...,\n",
       "           [ 0.7228,  0.7228,  0.7576,  ...,  0.3568,  0.3742,  0.3742],\n",
       "           [ 0.7054,  0.7054,  0.7576,  ...,  0.5834,  0.6008,  0.6008],\n",
       "           [ 0.7054,  0.7054,  0.7576,  ...,  0.6356,  0.6531,  0.6531]]],\n",
       " \n",
       " \n",
       "         ...,\n",
       " \n",
       " \n",
       "         [[[-0.7137, -0.6452, -0.4911,  ...,  0.9474,  0.9303,  0.9303],\n",
       "           [-0.6965, -0.6281, -0.4568,  ...,  0.9303,  0.9646,  0.9988],\n",
       "           [-0.6623, -0.5767, -0.4054,  ...,  0.8961,  1.0502,  1.1187],\n",
       "           ...,\n",
       "           [-0.2856, -0.2856, -0.3027,  ...,  0.4851,  0.0741, -0.1314],\n",
       "           [-0.2684, -0.2856, -0.3198,  ...,  0.6563,  0.3823,  0.2453],\n",
       "           [-0.2684, -0.2856, -0.3369,  ...,  0.7419,  0.5364,  0.4337]],\n",
       " \n",
       "          [[-0.5651, -0.4776, -0.3200,  ...,  1.3431,  1.3256,  1.3256],\n",
       "           [-0.5476, -0.4601, -0.2850,  ...,  1.3256,  1.3606,  1.3957],\n",
       "           [-0.5301, -0.4251, -0.2325,  ...,  1.2906,  1.4482,  1.5182],\n",
       "           ...,\n",
       "           [-1.0203, -0.9853, -0.9153,  ...,  1.0105,  0.6078,  0.4153],\n",
       "           [-0.9328, -0.9153, -0.8803,  ...,  1.1681,  0.9055,  0.7654],\n",
       "           [-0.8978, -0.8803, -0.8627,  ...,  1.2556,  1.0455,  0.9405]],\n",
       " \n",
       "          [[-0.6890, -0.6193, -0.4798,  ...,  1.5594,  1.5420,  1.5420],\n",
       "           [-0.6715, -0.6018, -0.4624,  ...,  1.5420,  1.5768,  1.6117],\n",
       "           [-0.6541, -0.5844, -0.4101,  ...,  1.5245,  1.6640,  1.7337],\n",
       "           ...,\n",
       "           [ 0.2522,  0.2522,  0.2522,  ...,  0.8971,  0.4439,  0.2348],\n",
       "           [ 0.2871,  0.2696,  0.2522,  ...,  1.0888,  0.7751,  0.6182],\n",
       "           [ 0.3045,  0.2871,  0.2522,  ...,  1.1934,  0.9494,  0.8274]]],\n",
       " \n",
       " \n",
       "         [[[-1.8782, -1.8953, -1.9124,  ..., -1.9467, -1.9467, -1.9467],\n",
       "           [-1.8953, -1.8610, -1.8610,  ..., -1.9638, -1.9467, -1.9467],\n",
       "           [-1.8782, -1.8782, -1.8782,  ..., -1.9124, -1.9124, -1.9295],\n",
       "           ...,\n",
       "           [-0.7993, -1.4843, -2.0323,  ..., -1.8782, -1.8782, -1.8610],\n",
       "           [-0.7822, -1.4843, -2.0323,  ..., -1.9124, -1.8953, -1.8782],\n",
       "           [-1.0048, -1.5357, -1.9467,  ..., -1.9124, -1.9124, -1.9124]],\n",
       " \n",
       "          [[-1.5455, -1.5630, -1.5805,  ..., -1.6506, -1.6506, -1.6506],\n",
       "           [-1.5630, -1.5280, -1.5280,  ..., -1.6506, -1.6506, -1.6506],\n",
       "           [-1.5455, -1.5455, -1.5455,  ..., -1.5980, -1.6155, -1.6331],\n",
       "           ...,\n",
       "           [-0.4601, -1.1954, -1.7906,  ..., -1.5805, -1.5805, -1.5630],\n",
       "           [-0.4601, -1.2129, -1.8081,  ..., -1.5980, -1.5980, -1.5980],\n",
       "           [-0.7752, -1.3354, -1.7906,  ..., -1.6155, -1.6155, -1.6331]],\n",
       " \n",
       "          [[-1.0898, -1.1073, -1.1247,  ..., -1.1944, -1.1944, -1.1944],\n",
       "           [-1.1073, -1.0724, -1.0724,  ..., -1.1944, -1.1770, -1.1770],\n",
       "           [-1.0898, -1.0898, -1.0898,  ..., -1.1421, -1.1421, -1.1596],\n",
       "           ...,\n",
       "           [-0.0615, -0.7936, -1.3513,  ..., -1.1596, -1.1073, -1.0724],\n",
       "           [-0.0441, -0.7936, -1.3861,  ..., -1.1770, -1.1247, -1.0898],\n",
       "           [-0.4450, -1.0027, -1.4384,  ..., -1.1421, -1.1421, -1.1421]]],\n",
       " \n",
       " \n",
       "         [[[ 2.1804,  2.1804,  2.1633,  ...,  2.0263,  2.0263,  2.0263],\n",
       "           [ 2.1804,  2.1804,  2.1633,  ...,  2.0263,  2.0263,  2.0263],\n",
       "           [ 2.1975,  2.1975,  2.1804,  ...,  2.0434,  2.0434,  2.0434],\n",
       "           ...,\n",
       "           [-1.2274, -1.2274, -1.2103,  ..., -0.7479, -0.7308, -0.7308],\n",
       "           [-1.2274, -1.2274, -1.2274,  ..., -0.7650, -0.7479, -0.7479],\n",
       "           [-1.2274, -1.2274, -1.2274,  ..., -0.7650, -0.7479, -0.7479]],\n",
       " \n",
       "          [[ 1.9209,  1.9384,  1.9734,  ...,  1.6758,  1.6758,  1.6758],\n",
       "           [ 1.9209,  1.9384,  1.9734,  ...,  1.6758,  1.6758,  1.6758],\n",
       "           [ 1.9384,  1.9559,  1.9909,  ...,  1.6933,  1.6933,  1.6933],\n",
       "           ...,\n",
       "           [-0.4076, -0.4076, -0.3901,  ...,  0.1877,  0.1877,  0.1877],\n",
       "           [-0.4076, -0.4076, -0.4076,  ...,  0.1702,  0.1877,  0.1877],\n",
       "           [-0.4076, -0.4076, -0.4076,  ...,  0.1702,  0.1877,  0.1877]],\n",
       " \n",
       "          [[-1.3861, -1.3687, -1.2641,  ..., -1.8044, -1.8044, -1.8044],\n",
       "           [-1.4036, -1.3861, -1.2816,  ..., -1.8044, -1.8044, -1.8044],\n",
       "           [-1.4384, -1.4210, -1.3164,  ..., -1.8044, -1.8044, -1.8044],\n",
       "           ...,\n",
       "           [-1.4036, -1.4036, -1.3861,  ..., -1.0376, -1.0550, -1.0550],\n",
       "           [-1.4036, -1.4036, -1.4036,  ..., -1.0550, -1.0724, -1.0724],\n",
       "           [-1.4036, -1.4036, -1.4036,  ..., -1.0550, -1.0724, -1.0724]]]]),\n",
       " tensor([ 100,   49,   97,   92,   41,   43,   33,   11,   23,    6,   12,   57,   65,   45,    2,   77,\n",
       "           81,   17,   49,   64,   36,   43,   78,   89,   18,    9,   99,   25,   21,   74,    6,   69,\n",
       "           77,   79,   43,   82,   47,   37,   38,   13,   74,   91,   87,   60,   14,   15,   36,   88,\n",
       "           26,   85,   47,   78,   33,   84,   51,   41,   11,   72,   49,   84,   89,   32,   32,   45])]"
      ]
     },
     "execution_count": 21,
     "metadata": {},
     "output_type": "execute_result"
    }
   ],
   "source": [
    "batch"
   ]
  },
  {
   "cell_type": "code",
   "execution_count": 22,
   "metadata": {
    "scrolled": true
   },
   "outputs": [
    {
     "data": {
      "text/plain": [
       "2"
      ]
     },
     "execution_count": 22,
     "metadata": {},
     "output_type": "execute_result"
    }
   ],
   "source": [
    "len(batch)"
   ]
  },
  {
   "cell_type": "code",
   "execution_count": 23,
   "metadata": {},
   "outputs": [
    {
     "data": {
      "text/plain": [
       "list"
      ]
     },
     "execution_count": 23,
     "metadata": {},
     "output_type": "execute_result"
    }
   ],
   "source": [
    "type(batch)"
   ]
  },
  {
   "cell_type": "code",
   "execution_count": 24,
   "metadata": {},
   "outputs": [],
   "source": [
    "images, labels = batch"
   ]
  },
  {
   "cell_type": "code",
   "execution_count": 25,
   "metadata": {},
   "outputs": [
    {
     "data": {
      "text/plain": [
       "tensor([ 100,   49,   97,   92,   41,   43,   33,   11,   23,    6,   12,   57,   65,   45,    2,   77,\n",
       "          81,   17,   49,   64,   36,   43,   78,   89,   18,    9,   99,   25,   21,   74,    6,   69,\n",
       "          77,   79,   43,   82,   47,   37,   38,   13,   74,   91,   87,   60,   14,   15,   36,   88,\n",
       "          26,   85,   47,   78,   33,   84,   51,   41,   11,   72,   49,   84,   89,   32,   32,   45])"
      ]
     },
     "execution_count": 25,
     "metadata": {},
     "output_type": "execute_result"
    }
   ],
   "source": [
    "labels"
   ]
  },
  {
   "cell_type": "code",
   "execution_count": 26,
   "metadata": {},
   "outputs": [
    {
     "data": {
      "text/plain": [
       "64"
      ]
     },
     "execution_count": 26,
     "metadata": {},
     "output_type": "execute_result"
    }
   ],
   "source": [
    "len(labels)"
   ]
  },
  {
   "cell_type": "code",
   "execution_count": 27,
   "metadata": {},
   "outputs": [
    {
     "data": {
      "text/plain": [
       "torch.Size([64, 3, 224, 224])"
      ]
     },
     "execution_count": 27,
     "metadata": {},
     "output_type": "execute_result"
    }
   ],
   "source": [
    "images.shape"
   ]
  },
  {
   "cell_type": "code",
   "execution_count": 28,
   "metadata": {},
   "outputs": [
    {
     "data": {
      "text/plain": [
       "tensor(49)"
      ]
     },
     "execution_count": 28,
     "metadata": {},
     "output_type": "execute_result"
    }
   ],
   "source": [
    "labels[1]"
   ]
  },
  {
   "cell_type": "markdown",
   "metadata": {},
   "source": [
    "### Label mapping\n",
    "\n",
    "You'll also need to load in a mapping from category label to category name. You can find this in the file `cat_to_name.json`. It's a JSON object which you can read in with the [`json` module](https://docs.python.org/2/library/json.html). This will give you a dictionary mapping the integer encoded categories to the actual names of the flowers."
   ]
  },
  {
   "cell_type": "code",
   "execution_count": 29,
   "metadata": {},
   "outputs": [],
   "source": [
    "import json\n",
    "\n",
    "with open('cat_to_name.json', 'r') as f:\n",
    "    cat_to_name = json.load(f)"
   ]
  },
  {
   "cell_type": "markdown",
   "metadata": {},
   "source": [
    "# Building and training the classifier\n",
    "\n",
    "Now that the data is ready, it's time to build and train the classifier. As usual, you should use one of the pretrained models from `torchvision.models` to get the image features. Build and train a new feed-forward classifier using those features.\n",
    "\n",
    "We're going to leave this part up to you. If you want to talk through it with someone, chat with your fellow students! You can also ask questions on the forums or join the instructors in office hours.\n",
    "\n",
    "Refer to [the rubric](https://review.udacity.com/#!/rubrics/1663/view) for guidance on successfully completing this section. Things you'll need to do:\n",
    "\n",
    "* Load a [pre-trained network](http://pytorch.org/docs/master/torchvision/models.html) (If you need a starting point, the VGG networks work great and are straightforward to use)\n",
    "* Define a new, untrained feed-forward network as a classifier, using ReLU activations and dropout\n",
    "* Train the classifier layers using backpropagation using the pre-trained network to get the features\n",
    "* Track the loss and accuracy on the validation set to determine the best hyperparameters\n",
    "\n",
    "We've left a cell open for you below, but use as many as you need. Our advice is to break the problem up into smaller parts you can run separately. Check that each part is doing what you expect, then move on to the next. You'll likely find that as you work through each part, you'll need to go back and modify your previous code. This is totally normal!\n",
    "\n",
    "When training make sure you're updating only the weights of the feed-forward network. You should be able to get the validation accuracy above 70% if you build everything right. Make sure to try different hyperparameters (learning rate, units in the classifier, epochs, etc) to find the best model. Save those hyperparameters to use as default values in the next part of the project."
   ]
  },
  {
   "cell_type": "code",
   "execution_count": 30,
   "metadata": {},
   "outputs": [
    {
     "name": "stderr",
     "output_type": "stream",
     "text": [
      "Downloading: \"https://download.pytorch.org/models/resnet18-5c106cde.pth\" to /root/.torch/models/resnet18-5c106cde.pth\n",
      "100%|██████████| 46827520/46827520 [00:00<00:00, 88724201.89it/s]\n",
      "Downloading: \"https://download.pytorch.org/models/alexnet-owt-4df8aa71.pth\" to /root/.torch/models/alexnet-owt-4df8aa71.pth\n",
      "100%|██████████| 244418560/244418560 [00:02<00:00, 90659371.22it/s]\n",
      "/opt/conda/lib/python3.6/site-packages/torchvision-0.2.1-py3.6.egg/torchvision/models/squeezenet.py:94: UserWarning: nn.init.kaiming_uniform is now deprecated in favor of nn.init.kaiming_uniform_.\n",
      "/opt/conda/lib/python3.6/site-packages/torchvision-0.2.1-py3.6.egg/torchvision/models/squeezenet.py:92: UserWarning: nn.init.normal is now deprecated in favor of nn.init.normal_.\n",
      "Downloading: \"https://download.pytorch.org/models/squeezenet1_0-a815701f.pth\" to /root/.torch/models/squeezenet1_0-a815701f.pth\n",
      "100%|██████████| 5017600/5017600 [00:00<00:00, 22495200.41it/s]\n",
      "Downloading: \"https://download.pytorch.org/models/vgg16-397923af.pth\" to /root/.torch/models/vgg16-397923af.pth\n",
      "100%|██████████| 553433881/553433881 [00:05<00:00, 96853715.19it/s] \n",
      "/opt/conda/lib/python3.6/site-packages/torchvision-0.2.1-py3.6.egg/torchvision/models/densenet.py:212: UserWarning: nn.init.kaiming_normal is now deprecated in favor of nn.init.kaiming_normal_.\n",
      "Downloading: \"https://download.pytorch.org/models/densenet121-a639ec97.pth\" to /root/.torch/models/densenet121-a639ec97.pth\n",
      "100%|██████████| 32342954/32342954 [00:00<00:00, 78841132.53it/s]\n",
      "Downloading: \"https://download.pytorch.org/models/inception_v3_google-1a9a5a14.pth\" to /root/.torch/models/inception_v3_google-1a9a5a14.pth\n",
      "100%|██████████| 108857766/108857766 [00:01<00:00, 88695903.51it/s]\n"
     ]
    }
   ],
   "source": [
    "# TODO: Build and train your network\n",
    "model = \"vgg19\" \n",
    "pretrained_models = {'resnet18': models.resnet18(pretrained=True),\n",
    "                    'alexnet': models.alexnet(pretrained=True),\n",
    "                     'squeezenet': models.squeezenet1_0(pretrained=True),\n",
    "                     'vgg19': models.vgg16(pretrained=True),\n",
    "                     'densenet121': models.densenet121(pretrained=True),\n",
    "                     'inception': models.inception_v3(pretrained=True)}\n",
    "                     \n",
    "model = pretrained_models[model]"
   ]
  },
  {
   "cell_type": "code",
   "execution_count": 31,
   "metadata": {
    "scrolled": false
   },
   "outputs": [
    {
     "data": {
      "text/plain": [
       "torchvision.models.vgg.VGG"
      ]
     },
     "execution_count": 31,
     "metadata": {},
     "output_type": "execute_result"
    }
   ],
   "source": [
    "type(model)"
   ]
  },
  {
   "cell_type": "code",
   "execution_count": 32,
   "metadata": {},
   "outputs": [],
   "source": [
    "for param in model.parameters():\n",
    "    #print(param)\n",
    "    param.requires_grad = False"
   ]
  },
  {
   "cell_type": "code",
   "execution_count": 33,
   "metadata": {},
   "outputs": [
    {
     "data": {
      "text/plain": [
       "Sequential(\n",
       "  (fc1): Linear(in_features=25088, out_features=10000, bias=True)\n",
       "  (relu1): ReLU()\n",
       "  (fc2): Linear(in_features=10000, out_features=4096, bias=True)\n",
       "  (relu2): ReLU()\n",
       "  (fc3): Linear(in_features=4096, out_features=102, bias=True)\n",
       "  (output): LogSoftmax()\n",
       ")"
      ]
     },
     "execution_count": 33,
     "metadata": {},
     "output_type": "execute_result"
    }
   ],
   "source": [
    "from collections import OrderedDict\n",
    "classifier = nn.Sequential(OrderedDict([\n",
    "    ('fc1', nn.Linear(25088, 10000)),    \n",
    "    ('relu1', nn.ReLU()),\n",
    "    ('fc2', nn.Linear(10000, 4096)),  \n",
    "    ('relu2', nn.ReLU()),\n",
    "    ('fc3', nn.Linear(4096, 102)),\n",
    "    ('output', nn.LogSoftmax(dim=1))\n",
    "    ]))\n",
    "\n",
    "model.classifier = classifier\n",
    "classifier"
   ]
  },
  {
   "cell_type": "code",
   "execution_count": 34,
   "metadata": {},
   "outputs": [],
   "source": [
    "for param in model.classifier.parameters():\n",
    "    param.requires_grad = True"
   ]
  },
  {
   "cell_type": "code",
   "execution_count": 35,
   "metadata": {},
   "outputs": [
    {
     "data": {
      "text/plain": [
       "VGG(\n",
       "  (features): Sequential(\n",
       "    (0): Conv2d(3, 64, kernel_size=(3, 3), stride=(1, 1), padding=(1, 1))\n",
       "    (1): ReLU(inplace)\n",
       "    (2): Conv2d(64, 64, kernel_size=(3, 3), stride=(1, 1), padding=(1, 1))\n",
       "    (3): ReLU(inplace)\n",
       "    (4): MaxPool2d(kernel_size=2, stride=2, padding=0, dilation=1, ceil_mode=False)\n",
       "    (5): Conv2d(64, 128, kernel_size=(3, 3), stride=(1, 1), padding=(1, 1))\n",
       "    (6): ReLU(inplace)\n",
       "    (7): Conv2d(128, 128, kernel_size=(3, 3), stride=(1, 1), padding=(1, 1))\n",
       "    (8): ReLU(inplace)\n",
       "    (9): MaxPool2d(kernel_size=2, stride=2, padding=0, dilation=1, ceil_mode=False)\n",
       "    (10): Conv2d(128, 256, kernel_size=(3, 3), stride=(1, 1), padding=(1, 1))\n",
       "    (11): ReLU(inplace)\n",
       "    (12): Conv2d(256, 256, kernel_size=(3, 3), stride=(1, 1), padding=(1, 1))\n",
       "    (13): ReLU(inplace)\n",
       "    (14): Conv2d(256, 256, kernel_size=(3, 3), stride=(1, 1), padding=(1, 1))\n",
       "    (15): ReLU(inplace)\n",
       "    (16): MaxPool2d(kernel_size=2, stride=2, padding=0, dilation=1, ceil_mode=False)\n",
       "    (17): Conv2d(256, 512, kernel_size=(3, 3), stride=(1, 1), padding=(1, 1))\n",
       "    (18): ReLU(inplace)\n",
       "    (19): Conv2d(512, 512, kernel_size=(3, 3), stride=(1, 1), padding=(1, 1))\n",
       "    (20): ReLU(inplace)\n",
       "    (21): Conv2d(512, 512, kernel_size=(3, 3), stride=(1, 1), padding=(1, 1))\n",
       "    (22): ReLU(inplace)\n",
       "    (23): MaxPool2d(kernel_size=2, stride=2, padding=0, dilation=1, ceil_mode=False)\n",
       "    (24): Conv2d(512, 512, kernel_size=(3, 3), stride=(1, 1), padding=(1, 1))\n",
       "    (25): ReLU(inplace)\n",
       "    (26): Conv2d(512, 512, kernel_size=(3, 3), stride=(1, 1), padding=(1, 1))\n",
       "    (27): ReLU(inplace)\n",
       "    (28): Conv2d(512, 512, kernel_size=(3, 3), stride=(1, 1), padding=(1, 1))\n",
       "    (29): ReLU(inplace)\n",
       "    (30): MaxPool2d(kernel_size=2, stride=2, padding=0, dilation=1, ceil_mode=False)\n",
       "  )\n",
       "  (classifier): Sequential(\n",
       "    (fc1): Linear(in_features=25088, out_features=10000, bias=True)\n",
       "    (relu1): ReLU()\n",
       "    (fc2): Linear(in_features=10000, out_features=4096, bias=True)\n",
       "    (relu2): ReLU()\n",
       "    (fc3): Linear(in_features=4096, out_features=102, bias=True)\n",
       "    (output): LogSoftmax()\n",
       "  )\n",
       ")"
      ]
     },
     "execution_count": 35,
     "metadata": {},
     "output_type": "execute_result"
    }
   ],
   "source": [
    "model"
   ]
  },
  {
   "cell_type": "code",
   "execution_count": 36,
   "metadata": {},
   "outputs": [],
   "source": [
    "def validation(model, testloader, criterion):\n",
    "    test_loss = 0\n",
    "    accuracy = 0\n",
    "    for test_dataset, labels in testloader:\n",
    "        #model.to(device)\n",
    "        test_dataset, labels = inputs.to(device), labels.to(device)\n",
    "        output = model.forward(test_dataset)\n",
    "        \n",
    "        #print('output')\n",
    "        #print(output)\n",
    "        \n",
    "        test_loss += criterion(output, labels).item()\n",
    "        \n",
    "        \n",
    "        ps = torch.exp(output)\n",
    "        equality = (labels.data == ps.max(dim=1)[1])\n",
    "        accuracy += equality.type(torch.FloatTensor).mean()\n",
    "        \n",
    "        \n",
    "        \n",
    "        #print('test_loss')\n",
    "        #print(test_loss)\n",
    "        #print('ps')\n",
    "        #print(ps)\n",
    "        #print('labels.data', labels.data)\n",
    "        #print('ps.max', ps.max(dim=1)[1])\n",
    "        #print('equality')\n",
    "        #print(equality)\n",
    "    return test_loss, accuracy\n"
   ]
  },
  {
   "cell_type": "code",
   "execution_count": 37,
   "metadata": {
    "scrolled": false
   },
   "outputs": [
    {
     "name": "stdout",
     "output_type": "stream",
     "text": [
      "Epoch: 1/10..  Training Loss: 2.831..  Test Loss: 9.570..  Test Accuracy: 0.013\n",
      "Epoch: 2/10..  Training Loss: 1.205..  Test Loss: 11.363..  Test Accuracy: 0.018\n",
      "Epoch: 2/10..  Training Loss: 0.891..  Test Loss: 12.952..  Test Accuracy: 0.008\n",
      "Epoch: 3/10..  Training Loss: 0.744..  Test Loss: 16.480..  Test Accuracy: 0.012\n",
      "Epoch: 4/10..  Training Loss: 0.670..  Test Loss: 16.561..  Test Accuracy: 0.012\n",
      "Epoch: 4/10..  Training Loss: 0.569..  Test Loss: 15.538..  Test Accuracy: 0.014\n",
      "Epoch: 5/10..  Training Loss: 0.542..  Test Loss: 19.220..  Test Accuracy: 0.016\n",
      "Epoch: 6/10..  Training Loss: 0.529..  Test Loss: 18.265..  Test Accuracy: 0.005\n",
      "Epoch: 6/10..  Training Loss: 0.458..  Test Loss: 18.808..  Test Accuracy: 0.010\n",
      "Epoch: 7/10..  Training Loss: 0.448..  Test Loss: 17.280..  Test Accuracy: 0.009\n",
      "Epoch: 7/10..  Training Loss: 0.422..  Test Loss: 20.734..  Test Accuracy: 0.009\n",
      "Epoch: 8/10..  Training Loss: 0.388..  Test Loss: 21.369..  Test Accuracy: 0.010\n",
      "Epoch: 9/10..  Training Loss: 0.433..  Test Loss: 20.155..  Test Accuracy: 0.013\n",
      "Epoch: 9/10..  Training Loss: 0.408..  Test Loss: 20.870..  Test Accuracy: 0.003\n",
      "Epoch: 10/10..  Training Loss: 0.370..  Test Loss: 19.876..  Test Accuracy: 0.008\n"
     ]
    }
   ],
   "source": [
    "epochs = 10\n",
    "print_every = 64\n",
    "running_loss = 0\n",
    "\n",
    "steps = 0\n",
    "\n",
    "criterion = nn.NLLLoss()\n",
    "optimizer = optim.Adam(model.classifier.parameters(), lr=0.0003)\n",
    "device = torch.device(\"cuda:0\" if torch.cuda.is_available() else \"cpu\")\n",
    "model.to(device)\n",
    "\n",
    "\n",
    "for e in range(epochs):\n",
    "       \n",
    "    for (inputs, labels) in train_loader:\n",
    "        model.train()\n",
    "        inputs, labels = inputs.to(device), labels.to(device)  # Send inputs and labels to cuda\n",
    "        optimizer.zero_grad()               # Set gradients to zero\n",
    "        \n",
    "        outputs = model.forward(inputs)     # outputs defined as output from forward pass of inputs\n",
    "        #print('outputs')\n",
    "        #print(outputs)\n",
    "        #print(type(outputs))\n",
    "                \n",
    "        loss = criterion(outputs, labels)   # define loss function checking outputs vs labels, output is a tensor\n",
    "        #print('loss')\n",
    "        #print(loss)\n",
    "        #print(loss.item())\n",
    "        #print('labels')\n",
    "        #print(labels)\n",
    "        \n",
    "        \n",
    "        #print(\"loss.item\", loss.item())\n",
    "        \n",
    "        running_loss += loss.item()        # add up the loss value (scalar values from the tensor)\n",
    "        #print(\"running loss\", running_loss)\n",
    "        loss.backward()                     # back propogate the loss value\n",
    "        \n",
    "        optimizer.step()                    # update the gradients\n",
    "        steps += 1\n",
    "        \n",
    "    \n",
    "        if steps % print_every == 0:\n",
    "            model.eval()\n",
    "            with torch.no_grad():\n",
    "                test_loss, accuracy = validation(model, test_loader, criterion)\n",
    "            print(\"Epoch: {}/{}.. \".format(e+1, epochs),\n",
    "                  \"Training Loss: {:.3f}.. \".format(running_loss/print_every),    # divide running loss by print every to average\n",
    "                  \"Test Loss: {:.3f}.. \".format(test_loss/len(test_loader)),\n",
    "                  \"Test Accuracy: {:.3f}\".format(accuracy/len(test_loader)))\n",
    "            running_loss = 0\n",
    "            model.train()\n",
    "    \n"
   ]
  },
  {
   "cell_type": "markdown",
   "metadata": {},
   "source": [
    "## Testing your network\n",
    "\n",
    "It's good practice to test your trained network on test data, images the network has never seen either in training or validation. This will give you a good estimate for the model's performance on completely new images. Run the test images through the network and measure the accuracy, the same way you did validation. You should be able to reach around 70% accuracy on the test set if the model has been trained well."
   ]
  },
  {
   "cell_type": "code",
   "execution_count": null,
   "metadata": {},
   "outputs": [],
   "source": [
    "\n"
   ]
  },
  {
   "cell_type": "markdown",
   "metadata": {},
   "source": [
    "## Save the checkpoint\n",
    "\n",
    "Now that your network is trained, save the model so you can load it later for making predictions. You probably want to save other things such as the mapping of classes to indices which you get from one of the image datasets: `image_datasets['train'].class_to_idx`. You can attach this to the model as an attribute which makes inference easier later on.\n",
    "\n",
    "```model.class_to_idx = image_datasets['train'].class_to_idx```\n",
    "\n",
    "Remember that you'll want to completely rebuild the model later so you can use it for inference. Make sure to include any information you need in the checkpoint. If you want to load the model and keep training, you'll want to save the number of epochs as well as the optimizer state, `optimizer.state_dict`. You'll likely want to use this trained model in the next part of the project, so best to save it now."
   ]
  },
  {
   "cell_type": "code",
   "execution_count": 38,
   "metadata": {},
   "outputs": [],
   "source": [
    "# TODO: Save the checkpoint "
   ]
  },
  {
   "cell_type": "markdown",
   "metadata": {},
   "source": [
    "## Loading the checkpoint\n",
    "\n",
    "At this point it's good to write a function that can load a checkpoint and rebuild the model. That way you can come back to this project and keep working on it without having to retrain the network."
   ]
  },
  {
   "cell_type": "code",
   "execution_count": 39,
   "metadata": {},
   "outputs": [],
   "source": [
    "# TODO: Write a function that loads a checkpoint and rebuilds the model"
   ]
  },
  {
   "cell_type": "markdown",
   "metadata": {},
   "source": [
    "# Inference for classification\n",
    "\n",
    "Now you'll write a function to use a trained network for inference. That is, you'll pass an image into the network and predict the class of the flower in the image. Write a function called `predict` that takes an image and a model, then returns the top $K$ most likely classes along with the probabilities. It should look like \n",
    "\n",
    "```python\n",
    "probs, classes = predict(image_path, model)\n",
    "print(probs)\n",
    "print(classes)\n",
    "> [ 0.01558163  0.01541934  0.01452626  0.01443549  0.01407339]\n",
    "> ['70', '3', '45', '62', '55']\n",
    "```\n",
    "\n",
    "First you'll need to handle processing the input image such that it can be used in your network. \n",
    "\n",
    "## Image Preprocessing\n",
    "\n",
    "You'll want to use `PIL` to load the image ([documentation](https://pillow.readthedocs.io/en/latest/reference/Image.html)). It's best to write a function that preprocesses the image so it can be used as input for the model. This function should process the images in the same manner used for training. \n",
    "\n",
    "First, resize the images where the shortest side is 256 pixels, keeping the aspect ratio. This can be done with the [`thumbnail`](http://pillow.readthedocs.io/en/3.1.x/reference/Image.html#PIL.Image.Image.thumbnail) or [`resize`](http://pillow.readthedocs.io/en/3.1.x/reference/Image.html#PIL.Image.Image.thumbnail) methods. Then you'll need to crop out the center 224x224 portion of the image.\n",
    "\n",
    "Color channels of images are typically encoded as integers 0-255, but the model expected floats 0-1. You'll need to convert the values. It's easiest with a Numpy array, which you can get from a PIL image like so `np_image = np.array(pil_image)`.\n",
    "\n",
    "As before, the network expects the images to be normalized in a specific way. For the means, it's `[0.485, 0.456, 0.406]` and for the standard deviations `[0.229, 0.224, 0.225]`. You'll want to subtract the means from each color channel, then divide by the standard deviation. \n",
    "\n",
    "And finally, PyTorch expects the color channel to be the first dimension but it's the third dimension in the PIL image and Numpy array. You can reorder dimensions using [`ndarray.transpose`](https://docs.scipy.org/doc/numpy-1.13.0/reference/generated/numpy.ndarray.transpose.html). The color channel needs to be first and retain the order of the other two dimensions."
   ]
  },
  {
   "cell_type": "code",
   "execution_count": 40,
   "metadata": {},
   "outputs": [],
   "source": [
    "def process_image(image):\n",
    "    ''' Scales, crops, and normalizes a PIL image for a PyTorch model,\n",
    "        returns an Numpy array\n",
    "    '''\n",
    "    \n",
    "    # TODO: Process a PIL image for use in a PyTorch model"
   ]
  },
  {
   "cell_type": "markdown",
   "metadata": {},
   "source": [
    "To check your work, the function below converts a PyTorch tensor and displays it in the notebook. If your `process_image` function works, running the output through this function should return the original image (except for the cropped out portions)."
   ]
  },
  {
   "cell_type": "code",
   "execution_count": 41,
   "metadata": {},
   "outputs": [],
   "source": [
    "def imshow(image, ax=None, title=None):\n",
    "    if ax is None:\n",
    "        fig, ax = plt.subplots()\n",
    "    \n",
    "    # PyTorch tensors assume the color channel is the first dimension\n",
    "    # but matplotlib assumes is the third dimension\n",
    "    image = image.transpose((1, 2, 0))\n",
    "    \n",
    "    # Undo preprocessing\n",
    "    mean = np.array([0.485, 0.456, 0.406])\n",
    "    std = np.array([0.229, 0.224, 0.225])\n",
    "    image = std * image + mean\n",
    "    \n",
    "    # Image needs to be clipped between 0 and 1 or it looks like noise when displayed\n",
    "    image = np.clip(image, 0, 1)\n",
    "    \n",
    "    ax.imshow(image)\n",
    "    \n",
    "    return ax"
   ]
  },
  {
   "cell_type": "markdown",
   "metadata": {},
   "source": [
    "## Class Prediction\n",
    "\n",
    "Once you can get images in the correct format, it's time to write a function for making predictions with your model. A common practice is to predict the top 5 or so (usually called top-$K$) most probable classes. You'll want to calculate the class probabilities then find the $K$ largest values.\n",
    "\n",
    "To get the top $K$ largest values in a tensor use [`x.topk(k)`](http://pytorch.org/docs/master/torch.html#torch.topk). This method returns both the highest `k` probabilities and the indices of those probabilities corresponding to the classes. You need to convert from these indices to the actual class labels using `class_to_idx` which hopefully you added to the model or from an `ImageFolder` you used to load the data ([see here](#Save-the-checkpoint)). Make sure to invert the dictionary so you get a mapping from index to class as well.\n",
    "\n",
    "Again, this method should take a path to an image and a model checkpoint, then return the probabilities and classes.\n",
    "\n",
    "```python\n",
    "probs, classes = predict(image_path, model)\n",
    "print(probs)\n",
    "print(classes)\n",
    "> [ 0.01558163  0.01541934  0.01452626  0.01443549  0.01407339]\n",
    "> ['70', '3', '45', '62', '55']\n",
    "```"
   ]
  },
  {
   "cell_type": "code",
   "execution_count": 42,
   "metadata": {},
   "outputs": [],
   "source": [
    "def predict(image_path, model, topk=5):\n",
    "    ''' Predict the class (or classes) of an image using a trained deep learning model.\n",
    "    '''\n",
    "    \n",
    "    # TODO: Implement the code to predict the class from an image file"
   ]
  },
  {
   "cell_type": "markdown",
   "metadata": {},
   "source": [
    "## Sanity Checking\n",
    "\n",
    "Now that you can use a trained model for predictions, check to make sure it makes sense. Even if the testing accuracy is high, it's always good to check that there aren't obvious bugs. Use `matplotlib` to plot the probabilities for the top 5 classes as a bar graph, along with the input image. It should look like this:\n",
    "\n",
    "<img src='assets/inference_example.png' width=300px>\n",
    "\n",
    "You can convert from the class integer encoding to actual flower names with the `cat_to_name.json` file (should have been loaded earlier in the notebook). To show a PyTorch tensor as an image, use the `imshow` function defined above."
   ]
  },
  {
   "cell_type": "code",
   "execution_count": 43,
   "metadata": {},
   "outputs": [],
   "source": [
    "# TODO: Display an image along with the top 5 classes"
   ]
  },
  {
   "cell_type": "code",
   "execution_count": null,
   "metadata": {},
   "outputs": [],
   "source": []
  },
  {
   "cell_type": "code",
   "execution_count": 44,
   "metadata": {},
   "outputs": [],
   "source": [
    "%matplotlib inline\n",
    "%config InlineBackend.figure_format = 'retina'\n",
    "import time\n",
    "import json\n",
    "import copy\n",
    "import matplotlib.pyplot as plt\n",
    "import seaborn as sns\n",
    "import numpy as np\n",
    "from PIL import Image\n",
    "from collections import OrderedDict\n",
    "import torch\n",
    "from torch import nn, optim\n",
    "from torch.optim import lr_scheduler\n",
    "from torch.autograd import Variable\n",
    "from torchvision import datasets, models, transforms"
   ]
  },
  {
   "cell_type": "code",
   "execution_count": 45,
   "metadata": {},
   "outputs": [],
   "source": [
    "data_transforms = {\n",
    "    'train': transforms.Compose([\n",
    "        transforms.RandomRotation(45),\n",
    "        transforms.RandomResizedCrop(224),\n",
    "        transforms.RandomHorizontalFlip(),\n",
    "        transforms.ToTensor(),\n",
    "        transforms.Normalize([0.485, 0.456, 0.406], \n",
    "                             [0.229, 0.224, 0.225])\n",
    "    ]),\n",
    "    'valid': transforms.Compose([\n",
    "        transforms.Resize(256),\n",
    "        transforms.CenterCrop(224),\n",
    "        transforms.ToTensor(),\n",
    "        transforms.Normalize([0.485, 0.456, 0.406], \n",
    "                             [0.229, 0.224, 0.225])\n",
    "    ]),\n",
    "    'test': transforms.Compose([\n",
    "        transforms.Resize(256),\n",
    "        transforms.CenterCrop(224),\n",
    "        transforms.ToTensor(),\n",
    "        transforms.Normalize([0.485, 0.456, 0.406], \n",
    "                             [0.229, 0.224, 0.225])\n",
    "    ]),\n",
    "}"
   ]
  },
  {
   "cell_type": "code",
   "execution_count": null,
   "metadata": {},
   "outputs": [],
   "source": [
    "\n",
    "\n"
   ]
  },
  {
   "cell_type": "code",
   "execution_count": 46,
   "metadata": {},
   "outputs": [],
   "source": [
    "data_dir = 'flowers'\n",
    "train_dir = data_dir + '/train'\n",
    "valid_dir = data_dir + '/valid'\n",
    "test_dir = data_dir + '/test'\n",
    "dirs = {'train': train_dir, \n",
    "        'valid': valid_dir, \n",
    "        'test' : test_dir}\n",
    "image_datasets = {x: datasets.ImageFolder(dirs[x],   transform=data_transforms[x]) for x in ['train', 'valid', 'test']}\n",
    "dataloaders = {x: torch.utils.data.DataLoader(image_datasets[x], batch_size=32, shuffle=True) for x in ['train', 'valid', 'test']}\n",
    "dataset_sizes = {x: len(image_datasets[x]) \n",
    "                              for x in ['train', 'valid', 'test']}\n",
    "class_names = image_datasets['train'].classes"
   ]
  },
  {
   "cell_type": "code",
   "execution_count": 47,
   "metadata": {},
   "outputs": [],
   "source": [
    "with open('cat_to_name.json', 'r') as f:\n",
    "    label_map = json.load(f)"
   ]
  },
  {
   "cell_type": "code",
   "execution_count": 48,
   "metadata": {},
   "outputs": [
    {
     "name": "stderr",
     "output_type": "stream",
     "text": [
      "Downloading: \"https://download.pytorch.org/models/vgg19-dcbb9e9d.pth\" to /root/.torch/models/vgg19-dcbb9e9d.pth\n",
      "100%|██████████| 574673361/574673361 [00:10<00:00, 54021640.23it/s]\n"
     ]
    }
   ],
   "source": [
    "model = models.vgg19(pretrained=True)"
   ]
  },
  {
   "cell_type": "code",
   "execution_count": 49,
   "metadata": {},
   "outputs": [
    {
     "data": {
      "text/plain": [
       "VGG(\n",
       "  (features): Sequential(\n",
       "    (0): Conv2d(3, 64, kernel_size=(3, 3), stride=(1, 1), padding=(1, 1))\n",
       "    (1): ReLU(inplace)\n",
       "    (2): Conv2d(64, 64, kernel_size=(3, 3), stride=(1, 1), padding=(1, 1))\n",
       "    (3): ReLU(inplace)\n",
       "    (4): MaxPool2d(kernel_size=2, stride=2, padding=0, dilation=1, ceil_mode=False)\n",
       "    (5): Conv2d(64, 128, kernel_size=(3, 3), stride=(1, 1), padding=(1, 1))\n",
       "    (6): ReLU(inplace)\n",
       "    (7): Conv2d(128, 128, kernel_size=(3, 3), stride=(1, 1), padding=(1, 1))\n",
       "    (8): ReLU(inplace)\n",
       "    (9): MaxPool2d(kernel_size=2, stride=2, padding=0, dilation=1, ceil_mode=False)\n",
       "    (10): Conv2d(128, 256, kernel_size=(3, 3), stride=(1, 1), padding=(1, 1))\n",
       "    (11): ReLU(inplace)\n",
       "    (12): Conv2d(256, 256, kernel_size=(3, 3), stride=(1, 1), padding=(1, 1))\n",
       "    (13): ReLU(inplace)\n",
       "    (14): Conv2d(256, 256, kernel_size=(3, 3), stride=(1, 1), padding=(1, 1))\n",
       "    (15): ReLU(inplace)\n",
       "    (16): Conv2d(256, 256, kernel_size=(3, 3), stride=(1, 1), padding=(1, 1))\n",
       "    (17): ReLU(inplace)\n",
       "    (18): MaxPool2d(kernel_size=2, stride=2, padding=0, dilation=1, ceil_mode=False)\n",
       "    (19): Conv2d(256, 512, kernel_size=(3, 3), stride=(1, 1), padding=(1, 1))\n",
       "    (20): ReLU(inplace)\n",
       "    (21): Conv2d(512, 512, kernel_size=(3, 3), stride=(1, 1), padding=(1, 1))\n",
       "    (22): ReLU(inplace)\n",
       "    (23): Conv2d(512, 512, kernel_size=(3, 3), stride=(1, 1), padding=(1, 1))\n",
       "    (24): ReLU(inplace)\n",
       "    (25): Conv2d(512, 512, kernel_size=(3, 3), stride=(1, 1), padding=(1, 1))\n",
       "    (26): ReLU(inplace)\n",
       "    (27): MaxPool2d(kernel_size=2, stride=2, padding=0, dilation=1, ceil_mode=False)\n",
       "    (28): Conv2d(512, 512, kernel_size=(3, 3), stride=(1, 1), padding=(1, 1))\n",
       "    (29): ReLU(inplace)\n",
       "    (30): Conv2d(512, 512, kernel_size=(3, 3), stride=(1, 1), padding=(1, 1))\n",
       "    (31): ReLU(inplace)\n",
       "    (32): Conv2d(512, 512, kernel_size=(3, 3), stride=(1, 1), padding=(1, 1))\n",
       "    (33): ReLU(inplace)\n",
       "    (34): Conv2d(512, 512, kernel_size=(3, 3), stride=(1, 1), padding=(1, 1))\n",
       "    (35): ReLU(inplace)\n",
       "    (36): MaxPool2d(kernel_size=2, stride=2, padding=0, dilation=1, ceil_mode=False)\n",
       "  )\n",
       "  (classifier): Sequential(\n",
       "    (0): Linear(in_features=25088, out_features=4096, bias=True)\n",
       "    (1): ReLU(inplace)\n",
       "    (2): Dropout(p=0.5)\n",
       "    (3): Linear(in_features=4096, out_features=4096, bias=True)\n",
       "    (4): ReLU(inplace)\n",
       "    (5): Dropout(p=0.5)\n",
       "    (6): Linear(in_features=4096, out_features=1000, bias=True)\n",
       "  )\n",
       ")"
      ]
     },
     "execution_count": 49,
     "metadata": {},
     "output_type": "execute_result"
    }
   ],
   "source": [
    "model"
   ]
  },
  {
   "cell_type": "code",
   "execution_count": 50,
   "metadata": {},
   "outputs": [],
   "source": [
    "classifier = nn.Sequential(OrderedDict([\n",
    "                          ('fc1', nn.Linear(25088, 4096)),\n",
    "                          ('relu', nn.ReLU()),\n",
    "                          ('fc2', nn.Linear(4096, 102)),\n",
    "                          ('output', nn.LogSoftmax(dim=1))\n",
    "                          ]))"
   ]
  },
  {
   "cell_type": "code",
   "execution_count": 51,
   "metadata": {},
   "outputs": [],
   "source": [
    "for param in model.parameters():\n",
    "    param.requires_grad = False"
   ]
  },
  {
   "cell_type": "code",
   "execution_count": 52,
   "metadata": {},
   "outputs": [],
   "source": [
    "model.classifier = classifier"
   ]
  },
  {
   "cell_type": "code",
   "execution_count": 53,
   "metadata": {},
   "outputs": [],
   "source": [
    "def train_model(model, criteria, optimizer, scheduler,    \n",
    "                                      num_epochs=25, device='cuda'):\n",
    "    since = time.time()\n",
    "    \n",
    "    device = torch.device(\"cuda:0\" if torch.cuda.is_available() else \"cpu\")\n",
    "    model.to(device)\n",
    "\n",
    "    best_model_wts = copy.deepcopy(model.state_dict())\n",
    "    best_acc = 0.0\n",
    "\n",
    "    for epoch in range(num_epochs):\n",
    "        print('Epoch {}/{}'.format(epoch, num_epochs - 1))\n",
    "        print('-' * 10)\n",
    "\n",
    "        # Each epoch has a training and validation phase\n",
    "        for phase in ['train', 'valid']:\n",
    "            if phase == 'train':\n",
    "                scheduler.step()\n",
    "                model.train()  # Set model to training mode\n",
    "            else:\n",
    "                model.eval()   # Set model to evaluate mode\n",
    "\n",
    "            running_loss = 0.0\n",
    "            running_corrects = 0\n",
    "\n",
    "            # Iterate over data.\n",
    "            \n",
    "            \n",
    "            \n",
    "            for inputs, labels in dataloaders[phase]:\n",
    "                inputs = inputs.to(device)\n",
    "                labels = labels.to(device)\n",
    "\n",
    "                # zero the parameter gradients\n",
    "                optimizer.zero_grad()\n",
    "\n",
    "                # forward\n",
    "                # track history if only in train\n",
    "                with torch.set_grad_enabled(phase == 'train'):\n",
    "                    outputs = model(inputs)\n",
    "                    _, preds = torch.max(outputs, 1)\n",
    "                    loss = criterion(outputs, labels)\n",
    "\n",
    "                    # backward + optimize only if in training phase\n",
    "                    if phase == 'train':\n",
    "                        loss.backward()\n",
    "                        optimizer.step()\n",
    "\n",
    "                # statistics\n",
    "                running_loss += loss.item() * inputs.size(0)\n",
    "                running_corrects += torch.sum(preds == labels.data)\n",
    "\n",
    "            epoch_loss = running_loss / dataset_sizes[phase]\n",
    "            epoch_acc = running_corrects.double() / dataset_sizes[phase]\n",
    "\n",
    "            print('{} Loss: {:.4f} Acc: {:.4f}'.format(\n",
    "                phase, epoch_loss, epoch_acc))\n",
    "\n",
    "            # deep copy the model\n",
    "            if phase == 'valid' and epoch_acc > best_acc:\n",
    "                best_acc = epoch_acc\n",
    "                best_model_wts = copy.deepcopy(model.state_dict())\n",
    "\n",
    "        print()\n",
    "\n",
    "    time_elapsed = time.time() - since\n",
    "    print('Training complete in {:.0f}m {:.0f}s'.format(\n",
    "        time_elapsed // 60, time_elapsed % 60))\n",
    "    print('Best val Acc: {:4f}'.format(best_acc))\n",
    "\n",
    "    # load best model weights\n",
    "    model.load_state_dict(best_model_wts)\n",
    "    return model"
   ]
  },
  {
   "cell_type": "code",
   "execution_count": 54,
   "metadata": {},
   "outputs": [],
   "source": [
    "# Criteria NLLLoss which is recommended with Softmax final layer\n",
    "criteria = nn.NLLLoss()\n",
    "# Observe that all parameters are being optimized\n",
    "optim = optim.Adam(model.classifier.parameters(), lr=0.001)\n",
    "# Decay LR by a factor of 0.1 every 4 epochs\n",
    "sched = lr_scheduler.StepLR(optimizer, step_size=4, gamma=0.1)\n",
    "# Number of epochs\n",
    "eps=10"
   ]
  },
  {
   "cell_type": "code",
   "execution_count": null,
   "metadata": {},
   "outputs": [
    {
     "name": "stdout",
     "output_type": "stream",
     "text": [
      "Epoch 0/9\n",
      "----------\n",
      "train Loss: 2.6784 Acc: 0.4452\n",
      "valid Loss: 0.8670 Acc: 0.7543\n",
      "\n",
      "Epoch 1/9\n",
      "----------\n"
     ]
    }
   ],
   "source": [
    "model_ft = train_model(model, criteria, optim, sched, eps, 'cuda')"
   ]
  },
  {
   "cell_type": "code",
   "execution_count": null,
   "metadata": {},
   "outputs": [],
   "source": []
  },
  {
   "cell_type": "code",
   "execution_count": null,
   "metadata": {},
   "outputs": [],
   "source": []
  },
  {
   "cell_type": "code",
   "execution_count": null,
   "metadata": {},
   "outputs": [],
   "source": []
  }
 ],
 "metadata": {
  "kernelspec": {
   "display_name": "Python 3",
   "language": "python",
   "name": "python3"
  },
  "language_info": {
   "codemirror_mode": {
    "name": "ipython",
    "version": 3
   },
   "file_extension": ".py",
   "mimetype": "text/x-python",
   "name": "python",
   "nbconvert_exporter": "python",
   "pygments_lexer": "ipython3",
   "version": "3.6.5"
  }
 },
 "nbformat": 4,
 "nbformat_minor": 2
}
